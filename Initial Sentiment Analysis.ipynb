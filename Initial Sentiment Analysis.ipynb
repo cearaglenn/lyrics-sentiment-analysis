{
 "cells": [
  {
   "cell_type": "markdown",
   "metadata": {},
   "source": [
    "## Sentiment Analysis of Music Lyrics"
   ]
  },
  {
   "cell_type": "markdown",
   "metadata": {},
   "source": [
    "This notebook will analyze song lyrics from the top 100 billboard songs from 1964 to 2015."
   ]
  },
  {
   "cell_type": "markdown",
   "metadata": {},
   "source": [
    "## TL; DR\n",
    "\n",
    "In this notebook, you will find:\n",
    "* Sentiment Analysis using Vader and Sentiment analyzer from nltk\n",
    "    * The positive, negative, neutral, and compound scores are found for each song in the dataframe.\n",
    "    * Feel free to explore this link to learn more about Vader: https://blog.quantinsti.com/vader-sentiment/\n",
    "* Plots of the sentiment scores of the top 100 songs from each year for 50 years.\n",
    "* Statistical testing (t-test) to find if there is a difference between the sentiments across the years.\n",
    "\n",
    "### Findings\n",
    "\n",
    "* Across the positive, negative, and neutral sentiment scores for the song lyrics, the neutral sentiment scores shows a normal distribution while the positive and negative sentiment scores show a distribution that is skewed right. \n",
    "* Using the compound sentiment score, there is a visible decrease in the sentiment score as the years go on. This graph suggests that lyrics have a less positive sentiment in more recent years.\n",
    "    * Years with the lowest compound score: 2004, 2013, and 2015 - tested difference in negative score\n",
    "    * Years with the highest compound score: 1977, 1978, and 1991 - tested difference in positive score\n",
    "* Years with conclusive evidence that their positive or negative scores were different than the data set: 2013, 2015, 1977\n",
    "* Years with inconclusive evidence that their positive or negative scores were different than the data set: 1978, 1991, 2004"
   ]
  },
  {
   "cell_type": "markdown",
   "metadata": {},
   "source": [
    "### Load Libraries"
   ]
  },
  {
   "cell_type": "code",
   "execution_count": 1,
   "metadata": {},
   "outputs": [
    {
     "name": "stdout",
     "output_type": "stream",
     "text": [
      "Populating the interactive namespace from numpy and matplotlib\n"
     ]
    }
   ],
   "source": [
    "%pylab inline\n",
    "import pandas as pd\n",
    "import scipy.stats as ss\n",
    "import nltk\n",
    "from nltk.sentiment import vader, sentiment_analyzer\n",
    "from nltk.corpus import stopwords\n",
    "from nltk.tokenize import word_tokenize\n",
    "\n",
    "nltk.download('vader_lexicon')\n",
    "nltk.download('stopwords')\n",
    "stop_words = set(stopwords.words('english'))\n",
    "analyzer = vader.SentimentIntensityAnalyzer()"
   ]
  },
  {
   "cell_type": "markdown",
   "metadata": {},
   "source": [
    "### Load Data\n",
    "\n",
    "This may sound bad but I don't remember where I retrieved this dataset. If I had to guess, I got them from Kaggle. The lyrics are already cleaned of punctuation and in lowercase form. Of course, this csv will be included in the repo."
   ]
  },
  {
   "cell_type": "code",
   "execution_count": 71,
   "metadata": {},
   "outputs": [],
   "source": [
    "#using latin encoding to import data without error\n",
    "data = pd.read_csv(\"billboard_lyrics_1964-2015.csv\", encoding='latin-1')"
   ]
  },
  {
   "cell_type": "code",
   "execution_count": 97,
   "metadata": {},
   "outputs": [],
   "source": [
    "#dropping rows with no lyrics retrieved; will remove nulls and data with excessive spacing\n",
    "data1 = data.dropna(subset=[\"Lyrics\"])\n",
    "data1 = data1[~(data1.Lyrics==\"  \")&~(data1.Lyrics==\" \")]"
   ]
  },
  {
   "cell_type": "code",
   "execution_count": 145,
   "metadata": {},
   "outputs": [
    {
     "name": "stdout",
     "output_type": "stream",
     "text": [
      "5100 4866\n"
     ]
    }
   ],
   "source": [
    "#just showing rows dropped\n",
    "print(len(data), len(data1))"
   ]
  },
  {
   "cell_type": "markdown",
   "metadata": {},
   "source": [
    "### Load Functions"
   ]
  },
  {
   "cell_type": "code",
   "execution_count": 146,
   "metadata": {},
   "outputs": [],
   "source": [
    "def get_sentiment(data, stop_words):\n",
    "    \"\"\"\n",
    "    Return data with sentiment scores of song lyrics.\n",
    "\n",
    "        data: data containing the song lyrics. Must have Year and Lyric columns\n",
    "        stop_words: list pulled from nltk; contains basic words and will be used for removal, i.e. \"a\",\"it\",\"the\"\n",
    "        \n",
    "    This function will tokenize lyric data and analyze the lyric data using Vader lexicon from nltk.\n",
    "    \"\"\"\n",
    "    #create tokens from lyrics\n",
    "    data[\"word_tokens\"]=data[\"Lyrics\"].apply(word_tokenize)\n",
    "    #remove stopwords from lyrics\n",
    "    data[\"Lyrics_filtered\"]=data[\"word_tokens\"].apply(lambda lyrics: \" \".join([word for word in lyrics if not word.lower() in stop_words]))\n",
    "    #calculate sentiment score dataframe - returns positive, neutral, negative, compound scores\n",
    "    df = data[\"Lyrics_filtered\"].apply(lambda lyrics: analyzer.polarity_scores(lyrics))\n",
    "    #merges original data with sentiment score dataframe\n",
    "    data = data.merge(pd.DataFrame(dict(df)).T, left_index=True, right_index=True)\n",
    "    #filters for columns wanted in final dataset\n",
    "    data = data[[\"Year\",\"Lyrics\",\"Lyrics_filtered\",\"neg\",\"neu\",\"pos\",\"compound\"]]\n",
    "    \n",
    "    return data"
   ]
  },
  {
   "cell_type": "markdown",
   "metadata": {},
   "source": [
    "## Begin Analysis"
   ]
  },
  {
   "cell_type": "markdown",
   "metadata": {},
   "source": [
    "### Get Sentiment"
   ]
  },
  {
   "cell_type": "code",
   "execution_count": 147,
   "metadata": {},
   "outputs": [
    {
     "data": {
      "text/html": [
       "<div>\n",
       "<style scoped>\n",
       "    .dataframe tbody tr th:only-of-type {\n",
       "        vertical-align: middle;\n",
       "    }\n",
       "\n",
       "    .dataframe tbody tr th {\n",
       "        vertical-align: top;\n",
       "    }\n",
       "\n",
       "    .dataframe thead th {\n",
       "        text-align: right;\n",
       "    }\n",
       "</style>\n",
       "<table border=\"1\" class=\"dataframe\">\n",
       "  <thead>\n",
       "    <tr style=\"text-align: right;\">\n",
       "      <th></th>\n",
       "      <th>Year</th>\n",
       "      <th>Lyrics</th>\n",
       "      <th>Lyrics_filtered</th>\n",
       "      <th>neg</th>\n",
       "      <th>neu</th>\n",
       "      <th>pos</th>\n",
       "      <th>compound</th>\n",
       "    </tr>\n",
       "  </thead>\n",
       "  <tbody>\n",
       "    <tr>\n",
       "      <th>0</th>\n",
       "      <td>1965</td>\n",
       "      <td>sam the sham miscellaneous wooly bully wooly b...</td>\n",
       "      <td>sam sham miscellaneous wooly bully wooly bully...</td>\n",
       "      <td>0.430</td>\n",
       "      <td>0.560</td>\n",
       "      <td>0.010</td>\n",
       "      <td>-0.9948</td>\n",
       "    </tr>\n",
       "    <tr>\n",
       "      <th>1</th>\n",
       "      <td>1965</td>\n",
       "      <td>sugar pie honey bunch you know that i love yo...</td>\n",
       "      <td>sugar pie honey bunch know love cant help love...</td>\n",
       "      <td>0.191</td>\n",
       "      <td>0.569</td>\n",
       "      <td>0.240</td>\n",
       "      <td>0.9234</td>\n",
       "    </tr>\n",
       "    <tr>\n",
       "      <th>3</th>\n",
       "      <td>1965</td>\n",
       "      <td>when i woke up this morning you were on my mi...</td>\n",
       "      <td>woke morning mind mind got troubles whoaoh got...</td>\n",
       "      <td>0.303</td>\n",
       "      <td>0.599</td>\n",
       "      <td>0.099</td>\n",
       "      <td>-0.9607</td>\n",
       "    </tr>\n",
       "    <tr>\n",
       "      <th>4</th>\n",
       "      <td>1965</td>\n",
       "      <td>you never close your eyes anymore when i kiss...</td>\n",
       "      <td>never close eyes anymore kiss lips theres tend...</td>\n",
       "      <td>0.085</td>\n",
       "      <td>0.590</td>\n",
       "      <td>0.325</td>\n",
       "      <td>0.9931</td>\n",
       "    </tr>\n",
       "    <tr>\n",
       "      <th>5</th>\n",
       "      <td>1965</td>\n",
       "      <td>when youre alone and life is making you lonel...</td>\n",
       "      <td>youre alone life making lonely always go downt...</td>\n",
       "      <td>0.196</td>\n",
       "      <td>0.542</td>\n",
       "      <td>0.262</td>\n",
       "      <td>0.9423</td>\n",
       "    </tr>\n",
       "  </tbody>\n",
       "</table>\n",
       "</div>"
      ],
      "text/plain": [
       "   Year                                             Lyrics  \\\n",
       "0  1965  sam the sham miscellaneous wooly bully wooly b...   \n",
       "1  1965   sugar pie honey bunch you know that i love yo...   \n",
       "3  1965   when i woke up this morning you were on my mi...   \n",
       "4  1965   you never close your eyes anymore when i kiss...   \n",
       "5  1965   when youre alone and life is making you lonel...   \n",
       "\n",
       "                                     Lyrics_filtered    neg    neu    pos  \\\n",
       "0  sam sham miscellaneous wooly bully wooly bully...  0.430  0.560  0.010   \n",
       "1  sugar pie honey bunch know love cant help love...  0.191  0.569  0.240   \n",
       "3  woke morning mind mind got troubles whoaoh got...  0.303  0.599  0.099   \n",
       "4  never close eyes anymore kiss lips theres tend...  0.085  0.590  0.325   \n",
       "5  youre alone life making lonely always go downt...  0.196  0.542  0.262   \n",
       "\n",
       "   compound  \n",
       "0   -0.9948  \n",
       "1    0.9234  \n",
       "3   -0.9607  \n",
       "4    0.9931  \n",
       "5    0.9423  "
      ]
     },
     "execution_count": 147,
     "metadata": {},
     "output_type": "execute_result"
    }
   ],
   "source": [
    "#retrieve sentiment scores for lyric data\n",
    "data2 = get_sentiment(data1, stop_words)\n",
    "data2.head()"
   ]
  },
  {
   "cell_type": "code",
   "execution_count": 105,
   "metadata": {},
   "outputs": [
    {
     "data": {
      "text/html": [
       "<div>\n",
       "<style scoped>\n",
       "    .dataframe tbody tr th:only-of-type {\n",
       "        vertical-align: middle;\n",
       "    }\n",
       "\n",
       "    .dataframe tbody tr th {\n",
       "        vertical-align: top;\n",
       "    }\n",
       "\n",
       "    .dataframe thead th {\n",
       "        text-align: right;\n",
       "    }\n",
       "</style>\n",
       "<table border=\"1\" class=\"dataframe\">\n",
       "  <thead>\n",
       "    <tr style=\"text-align: right;\">\n",
       "      <th></th>\n",
       "      <th>Year</th>\n",
       "      <th>neg</th>\n",
       "      <th>neu</th>\n",
       "      <th>pos</th>\n",
       "      <th>compound</th>\n",
       "    </tr>\n",
       "  </thead>\n",
       "  <tbody>\n",
       "    <tr>\n",
       "      <th>count</th>\n",
       "      <td>4866.000000</td>\n",
       "      <td>4866.000000</td>\n",
       "      <td>4866.000000</td>\n",
       "      <td>4866.000000</td>\n",
       "      <td>4866.000000</td>\n",
       "    </tr>\n",
       "    <tr>\n",
       "      <th>mean</th>\n",
       "      <td>1990.310933</td>\n",
       "      <td>0.115939</td>\n",
       "      <td>0.653609</td>\n",
       "      <td>0.230455</td>\n",
       "      <td>0.469237</td>\n",
       "    </tr>\n",
       "    <tr>\n",
       "      <th>std</th>\n",
       "      <td>14.698411</td>\n",
       "      <td>0.092808</td>\n",
       "      <td>0.136188</td>\n",
       "      <td>0.133187</td>\n",
       "      <td>0.768280</td>\n",
       "    </tr>\n",
       "    <tr>\n",
       "      <th>min</th>\n",
       "      <td>1965.000000</td>\n",
       "      <td>0.000000</td>\n",
       "      <td>0.122000</td>\n",
       "      <td>0.000000</td>\n",
       "      <td>-0.999700</td>\n",
       "    </tr>\n",
       "    <tr>\n",
       "      <th>25%</th>\n",
       "      <td>1978.000000</td>\n",
       "      <td>0.048000</td>\n",
       "      <td>0.562250</td>\n",
       "      <td>0.132000</td>\n",
       "      <td>0.000000</td>\n",
       "    </tr>\n",
       "    <tr>\n",
       "      <th>50%</th>\n",
       "      <td>1990.000000</td>\n",
       "      <td>0.095000</td>\n",
       "      <td>0.659000</td>\n",
       "      <td>0.210000</td>\n",
       "      <td>0.954550</td>\n",
       "    </tr>\n",
       "    <tr>\n",
       "      <th>75%</th>\n",
       "      <td>2003.000000</td>\n",
       "      <td>0.162000</td>\n",
       "      <td>0.749000</td>\n",
       "      <td>0.309000</td>\n",
       "      <td>0.991900</td>\n",
       "    </tr>\n",
       "    <tr>\n",
       "      <th>max</th>\n",
       "      <td>2015.000000</td>\n",
       "      <td>0.698000</td>\n",
       "      <td>1.000000</td>\n",
       "      <td>0.878000</td>\n",
       "      <td>0.999900</td>\n",
       "    </tr>\n",
       "  </tbody>\n",
       "</table>\n",
       "</div>"
      ],
      "text/plain": [
       "              Year          neg          neu          pos     compound\n",
       "count  4866.000000  4866.000000  4866.000000  4866.000000  4866.000000\n",
       "mean   1990.310933     0.115939     0.653609     0.230455     0.469237\n",
       "std      14.698411     0.092808     0.136188     0.133187     0.768280\n",
       "min    1965.000000     0.000000     0.122000     0.000000    -0.999700\n",
       "25%    1978.000000     0.048000     0.562250     0.132000     0.000000\n",
       "50%    1990.000000     0.095000     0.659000     0.210000     0.954550\n",
       "75%    2003.000000     0.162000     0.749000     0.309000     0.991900\n",
       "max    2015.000000     0.698000     1.000000     0.878000     0.999900"
      ]
     },
     "execution_count": 105,
     "metadata": {},
     "output_type": "execute_result"
    }
   ],
   "source": [
    "#shows distribution of scores\n",
    "data2.describe()"
   ]
  },
  {
   "cell_type": "markdown",
   "metadata": {},
   "source": [
    "### Analyze Findings\n",
    "\n",
    "What I want to know:\n",
    "* Plot the positive, negative, and neutral sentiment scores and see the patterns\n",
    "* Plot the compound sentiment scores to see general pattern in sentiment across the years\n",
    "* Are there any years that the sentiments (pos or neg) were different from all the other years?"
   ]
  },
  {
   "cell_type": "code",
   "execution_count": 234,
   "metadata": {},
   "outputs": [
    {
     "data": {
      "image/png": "[encoded data removed]",
      "text/plain": [
       "<Figure size 432x288 with 1 Axes>"
      ]
     },
     "metadata": {
      "needs_background": "light"
     },
     "output_type": "display_data"
    }
   ],
   "source": [
    "hist(data2[\"pos\"])\n",
    "hist(data2[\"neg\"])\n",
    "hist(data2[\"neu\"])\n",
    "plt.legend([\"pos\",\"neg\",\"neu\"])\n",
    "plt.xlabel(\"Sentiment Score\")\n",
    "plt.ylabel(\"Distribution\")\n",
    "plt.title(\"Distribution of Sentiment Scores\")\n",
    "plt.show()"
   ]
  },
  {
   "cell_type": "code",
   "execution_count": 175,
   "metadata": {
    "scrolled": true
   },
   "outputs": [
    {
     "data": {
      "image/png": "[encoded data removed]",
      "text/plain": [
       "<Figure size 432x288 with 1 Axes>"
      ]
     },
     "metadata": {
      "needs_background": "light"
     },
     "output_type": "display_data"
    }
   ],
   "source": [
    "\"\"\"\n",
    "Shows the plots of positive, negative, and neutral sentiment scores. \n",
    "\n",
    "I chose to use the median (instead of mean) because there is skewing in the data for positive and negative sentiments (see above).\n",
    "\"\"\"\n",
    "plot(data2.groupby(by=\"Year\")[\"pos\"].median())\n",
    "plot(data2.groupby(by=\"Year\")[\"neg\"].median(), c=\"k\")\n",
    "plot(data2.groupby(by=\"Year\")[\"neu\"].median(), c=\"r\")\n",
    "plt.legend([\"pos\",\"neg\",\"neu\"])\n",
    "plt.title(\"Sentiment Scores of Song Lyrics from 1965 - 2015\")\n",
    "plt.xlabel(\"Year\")\n",
    "plt.ylabel(\"Sentiment Score\")\n",
    "plt.show()"
   ]
  },
  {
   "cell_type": "markdown",
   "metadata": {},
   "source": [
    "The compound score is a combination of the positive, neutral, and negative scores for each song lyric. In the graph below, compound score is plotted from 1965 through 2015. There are a few downward spikes in the graph. These downward spikes are typical of seeing more negative or less positive sentiments amongst the lyrics. I will compare the scores of the years with big downward spikes and see if there is any difference between their negative scores and the negative scores of all other years."
   ]
  },
  {
   "cell_type": "code",
   "execution_count": 167,
   "metadata": {
    "scrolled": true
   },
   "outputs": [
    {
     "data": {
      "image/png": "[encoded data removed]",
      "text/plain": [
       "<Figure size 432x288 with 1 Axes>"
      ]
     },
     "metadata": {
      "needs_background": "light"
     },
     "output_type": "display_data"
    }
   ],
   "source": [
    "plot(data2.groupby(by=\"Year\")[\"compound\"].median())\n",
    "plt.title(\"Sentiment Scores of Song Lyrics from 1965 - 2015\")\n",
    "plt.xlabel(\"Year\")\n",
    "plt.ylabel(\"Sentiment Score\")\n",
    "plt.show()"
   ]
  },
  {
   "cell_type": "code",
   "execution_count": 197,
   "metadata": {},
   "outputs": [
    {
     "data": {
      "text/plain": [
       "Year\n",
       "2013    0.269274\n",
       "2015    0.284024\n",
       "2004    0.284768\n",
       "Name: compound, dtype: float64"
      ]
     },
     "execution_count": 197,
     "metadata": {},
     "output_type": "execute_result"
    }
   ],
   "source": [
    "#find 3 years where the spikes occur i.e lowest compound score across 50 years\n",
    "data2.groupby(by=\"Year\")[\"compound\"].mean().sort_values()[0:3]"
   ]
  },
  {
   "cell_type": "markdown",
   "metadata": {},
   "source": [
    "#### Review of the Downward Spike Years\n",
    "* Find 3 years with the lowest compound score\n",
    "* Create 3 dataframes (1 for each year) for the years with the lowest compound score\n",
    "* Perform t-test to retrieve a test statistic and pvalue (are these results significance?)"
   ]
  },
  {
   "cell_type": "code",
   "execution_count": 185,
   "metadata": {},
   "outputs": [
    {
     "data": {
      "text/plain": [
       "Year\n",
       "1998    0.8621\n",
       "2006    0.8815\n",
       "2015    0.8834\n",
       "Name: compound, dtype: float64"
      ]
     },
     "execution_count": 185,
     "metadata": {},
     "output_type": "execute_result"
    }
   ],
   "source": [
    "#find 3 years where the spikes occur i.e lowest compound score across 50 years\n",
    "data2.groupby(by=\"Year\")[\"compound\"].median().sort_values()[0:3]"
   ]
  },
  {
   "cell_type": "code",
   "execution_count": 186,
   "metadata": {},
   "outputs": [],
   "source": [
    "#create dataframe with years with lowest compound score\n",
    "Y1998 = data2[data2.Year==1998]\n",
    "Y2006 = data2[data2.Year==2006]\n",
    "Y2015 = data2[data2.Year==2015]"
   ]
  },
  {
   "cell_type": "markdown",
   "metadata": {},
   "source": [
    "I decided to perform a t-test on these three years with these hypotheses in mind: \n",
    "\n",
    "**Null Hypothesis**: There is no difference between the mean of the negative sentiment scores of the indicated year AND the mean of the negative sentiment scores across all years.\n",
    "\n",
    "**Alternative Hypothesis**: There is difference between the mean of the negative sentiment scores of the indicated year AND the mean of the negative sentiment scores across all years.\n",
    "\n",
    "Across these three years, only 2015 proved to be significant with a p-value less than 0.05. I can accept the alternative hypothesis for the year of 2015 meaning there is a difference in the negative sentiment scores compared to other years. For years 1998 and 2006, I do not have conclusive evidence that the alternative hypothesis is true.  "
   ]
  },
  {
   "cell_type": "code",
   "execution_count": 224,
   "metadata": {},
   "outputs": [
    {
     "data": {
      "text/plain": [
       "Ttest_1sampResult(statistic=1.8489300755160194, pvalue=0.06761100358314458)"
      ]
     },
     "execution_count": 224,
     "metadata": {},
     "output_type": "execute_result"
    }
   ],
   "source": [
    "result1 = ss.ttest_1samp(Y1998[\"neg\"],data2[\"neg\"].mean())\n",
    "result1"
   ]
  },
  {
   "cell_type": "code",
   "execution_count": 225,
   "metadata": {},
   "outputs": [
    {
     "data": {
      "text/plain": [
       "Ttest_1sampResult(statistic=0.500406783032536, pvalue=0.6179459670525507)"
      ]
     },
     "execution_count": 225,
     "metadata": {},
     "output_type": "execute_result"
    }
   ],
   "source": [
    "result2=ss.ttest_1samp(Y2006[\"neg\"],data2[\"neg\"].mean())\n",
    "result2"
   ]
  },
  {
   "cell_type": "code",
   "execution_count": 226,
   "metadata": {},
   "outputs": [
    {
     "data": {
      "text/plain": [
       "Ttest_1sampResult(statistic=2.6141860355810143, pvalue=0.010369956417844627)"
      ]
     },
     "execution_count": 226,
     "metadata": {},
     "output_type": "execute_result"
    }
   ],
   "source": [
    "result3=ss.ttest_1samp(Y2015[\"neg\"],data2[\"neg\"].mean())\n",
    "result3"
   ]
  },
  {
   "cell_type": "markdown",
   "metadata": {},
   "source": [
    "Since the t-test uses the mean to perform the testing, I decided to go back to the graph below and chart the mean of the compound years. This chart looks different than the previous with more ups and downs across the years. I will take the top 3 years with the highest compound scores and the bottom 3 years with the lowest compound scores. I will perform the same tests as above with the same hypotheses. "
   ]
  },
  {
   "cell_type": "code",
   "execution_count": 198,
   "metadata": {},
   "outputs": [
    {
     "data": {
      "image/png": "[encoded data removed]",
      "text/plain": [
       "<Figure size 432x288 with 1 Axes>"
      ]
     },
     "metadata": {
      "needs_background": "light"
     },
     "output_type": "display_data"
    }
   ],
   "source": [
    "plot(data2.groupby(by=\"Year\")[\"compound\"].mean())\n",
    "plt.title(\"Sentiment Scores of Song Lyrics from 1965 - 2015\")\n",
    "plt.xlabel(\"Year\")\n",
    "plt.ylabel(\"Sentiment Score\")\n",
    "plt.show()"
   ]
  },
  {
   "cell_type": "markdown",
   "metadata": {},
   "source": [
    "*Same Hypotheses as Before*\n",
    "\n",
    "**Null Hypothesis**: There is no difference between the mean of the negative (or positive) sentiment scores of the indicated year AND the mean of the negative sentiment scores across all years.\n",
    "\n",
    "**Alternative Hypothesis**: There is difference between the mean of the negative (or positive) sentiment scores of the indicated year AND the mean of the negative sentiment scores across all years.\n",
    "\n",
    "Tests for Years with Lowest Compound Score - Difference in Negative Sentiment (Years 2004, 2013, and 2015)\n",
    "* Across these three years, 2013 and 2015 proved to be significant with a p-value less than 0.05. I can accept the alternative hypothesis for the years of 2013 and 2015 meaning there is a difference in the negative sentiment scores compared to other years. For year 2004, I do not have conclusive evidence that the alternative hypothesis is true.  \n",
    "\n",
    "\n",
    "Tests for Years with Highest Compound Score - Difference in Positive Sentiment (Years 1977, 1978, and 1991)\n",
    "* Across these three years, 1977 proved to be significant with a p-value less than 0.05. I can accept the alternative hypothesis for the year of 1977 meaning there is a difference in the positive sentiment scores compared to other years. For years 1978 and 1991, I do not have conclusive evidence that the alternative hypothesis is true.  "
   ]
  },
  {
   "cell_type": "markdown",
   "metadata": {},
   "source": [
    "#### Bottom Years"
   ]
  },
  {
   "cell_type": "code",
   "execution_count": 235,
   "metadata": {},
   "outputs": [
    {
     "data": {
      "text/plain": [
       "Year\n",
       "2013    0.269274\n",
       "2015    0.284024\n",
       "2004    0.284768\n",
       "Name: compound, dtype: float64"
      ]
     },
     "execution_count": 235,
     "metadata": {},
     "output_type": "execute_result"
    }
   ],
   "source": [
    "#find 3 years with lowest compound score across 50 years\n",
    "data2.groupby(by=\"Year\")[\"compound\"].mean().sort_values()[0:3]"
   ]
  },
  {
   "cell_type": "code",
   "execution_count": 203,
   "metadata": {},
   "outputs": [],
   "source": [
    "#create dataframe with years with lowest compound score\n",
    "Y2013 = data2[data2.Year==2013]\n",
    "Y2004 = data2[data2.Year==2004]\n",
    "Y2015 = data2[data2.Year==2015]"
   ]
  },
  {
   "cell_type": "code",
   "execution_count": 227,
   "metadata": {},
   "outputs": [
    {
     "data": {
      "text/plain": [
       "Ttest_1sampResult(statistic=2.423827488777766, pvalue=0.01721109805510746)"
      ]
     },
     "execution_count": 227,
     "metadata": {},
     "output_type": "execute_result"
    }
   ],
   "source": [
    "result1 = ss.ttest_1samp(Y2013[\"neg\"],data2[\"neg\"].mean())\n",
    "result1"
   ]
  },
  {
   "cell_type": "code",
   "execution_count": 228,
   "metadata": {},
   "outputs": [
    {
     "data": {
      "text/plain": [
       "Ttest_1sampResult(statistic=1.8984657896208668, pvalue=0.06060727024181925)"
      ]
     },
     "execution_count": 228,
     "metadata": {},
     "output_type": "execute_result"
    }
   ],
   "source": [
    "result2=ss.ttest_1samp(Y2004[\"neg\"],data2[\"neg\"].mean())\n",
    "result2"
   ]
  },
  {
   "cell_type": "code",
   "execution_count": 229,
   "metadata": {},
   "outputs": [
    {
     "data": {
      "text/plain": [
       "Ttest_1sampResult(statistic=2.6141860355810143, pvalue=0.010369956417844627)"
      ]
     },
     "execution_count": 229,
     "metadata": {},
     "output_type": "execute_result"
    }
   ],
   "source": [
    "result3=ss.ttest_1samp(Y2015[\"neg\"],data2[\"neg\"].mean())\n",
    "result3"
   ]
  },
  {
   "cell_type": "markdown",
   "metadata": {},
   "source": [
    "#### Top Years"
   ]
  },
  {
   "cell_type": "code",
   "execution_count": 221,
   "metadata": {},
   "outputs": [
    {
     "data": {
      "text/plain": [
       "Year\n",
       "1991    0.675233\n",
       "1978    0.667203\n",
       "1977    0.655593\n",
       "Name: compound, dtype: float64"
      ]
     },
     "execution_count": 221,
     "metadata": {},
     "output_type": "execute_result"
    }
   ],
   "source": [
    "#find 3 years with highest compound score across 50 years\n",
    "data2.groupby(by=\"Year\")[\"compound\"].mean().sort_values(ascending=False)[0:3]"
   ]
  },
  {
   "cell_type": "code",
   "execution_count": 212,
   "metadata": {},
   "outputs": [],
   "source": [
    "#create dataframe with years with highest compound score\n",
    "Y1977 = data2[data2.Year==1977]\n",
    "Y1978 = data2[data2.Year==1978]\n",
    "Y1991 = data2[data2.Year==1991]"
   ]
  },
  {
   "cell_type": "code",
   "execution_count": 230,
   "metadata": {},
   "outputs": [
    {
     "data": {
      "text/plain": [
       "Ttest_1sampResult(statistic=1.993426948072712, pvalue=0.04924271651353981)"
      ]
     },
     "execution_count": 230,
     "metadata": {},
     "output_type": "execute_result"
    }
   ],
   "source": [
    "result1 = ss.ttest_1samp(Y1977[\"pos\"],data2[\"pos\"].mean())\n",
    "result1"
   ]
  },
  {
   "cell_type": "code",
   "execution_count": 231,
   "metadata": {},
   "outputs": [
    {
     "data": {
      "text/plain": [
       "Ttest_1sampResult(statistic=0.8368599394592209, pvalue=0.4048636194424726)"
      ]
     },
     "execution_count": 231,
     "metadata": {},
     "output_type": "execute_result"
    }
   ],
   "source": [
    "result2=ss.ttest_1samp(Y1978[\"pos\"],data2[\"pos\"].mean())\n",
    "result2"
   ]
  },
  {
   "cell_type": "code",
   "execution_count": 232,
   "metadata": {},
   "outputs": [
    {
     "data": {
      "text/plain": [
       "Ttest_1sampResult(statistic=1.9556036686625595, pvalue=0.05341920730325977)"
      ]
     },
     "execution_count": 232,
     "metadata": {},
     "output_type": "execute_result"
    }
   ],
   "source": [
    "result3=ss.ttest_1samp(Y1991[\"pos\"],data2[\"pos\"].mean())\n",
    "result3"
   ]
  },
  {
   "cell_type": "code",
   "execution_count": null,
   "metadata": {},
   "outputs": [],
   "source": []
  }
 ],
 "metadata": {
  "kernelspec": {
   "display_name": "Python 3",
   "language": "python",
   "name": "python3"
  },
  "language_info": {
   "codemirror_mode": {
    "name": "ipython",
    "version": 3
   },
   "file_extension": ".py",
   "mimetype": "text/x-python",
   "name": "python",
   "nbconvert_exporter": "python",
   "pygments_lexer": "ipython3",
   "version": "3.8.5"
  }
 },
 "nbformat": 4,
 "nbformat_minor": 2
}
